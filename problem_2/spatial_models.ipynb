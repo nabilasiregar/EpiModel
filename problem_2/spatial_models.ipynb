{
 "cells": [
  {
   "cell_type": "code",
   "execution_count": null,
   "metadata": {},
   "outputs": [],
   "source": [
    "import networkx as nx\n",
    "import ndlib.models.epidemics as ep\n",
    "import ndlib.models.ModelConfig as mc\n",
    "import matplotlib.pyplot as plt\n",
    "import ipywidgets as widgets\n",
    "from IPython.display import display, clear_output\n"
   ]
  },
  {
   "cell_type": "code",
   "execution_count": null,
   "metadata": {},
   "outputs": [],
   "source": [
    "num_of_nodes = 30\n",
    "num_of_edges = 5\n",
    "k_nearest_neighbors = 6\n",
    "rewiring_probability = 0.1\n",
    "edge_creation_probability = 0.1\n",
    "\n",
    "ba_graph = nx.barabasi_albert_graph(num_of_nodes, num_of_edges)\n",
    "ws_graph = nx.watts_strogatz_graph(num_of_nodes, k_nearest_neighbors, rewiring_probability)\n",
    "er_graph = nx.erdos_renyi_graph(num_of_nodes, edge_creation_probability)"
   ]
  },
  {
   "cell_type": "code",
   "execution_count": null,
   "metadata": {},
   "outputs": [],
   "source": [
    "# Disease Parameters\n",
    "betas = [0.05, 0.1, 0.3]\n",
    "gammas = [0.001, 0.1, 0.5]\n",
    "\n",
    "results = {}\n",
    "\n",
    "for beta in betas:\n",
    "    for gamma in gammas:\n",
    "        config = mc.Configuration()\n",
    "        config.add_model_parameter('beta', beta)\n",
    "        config.add_model_parameter('gamma', gamma)\n",
    "        config.add_model_parameter('fraction_infected', 0.1) # 10% initially infected\n",
    "\n",
    "        for graph, name in [(ba_graph, \"Barabási-Albert\"), (ws_graph, \"Watts-Strogatz\"), (er_graph, \"Erdős-Rényi\")]:\n",
    "            model = ep.SIRModel(graph)\n",
    "            model.set_initial_status(config)\n",
    "            iterations = model.iteration_bunch(200)\n",
    "            \n",
    "            # Store results\n",
    "            key = (name, beta, gamma)\n",
    "            results[key] = iterations"
   ]
  },
  {
   "cell_type": "code",
   "execution_count": 5,
   "metadata": {},
   "outputs": [
    {
     "data": {
      "application/vnd.jupyter.widget-view+json": {
       "model_id": "2e777c4ca7c745e18c6d6697f6086517",
       "version_major": 2,
       "version_minor": 0
      },
      "text/plain": [
       "interactive(children=(Dropdown(description='Network:', index=1, options=('Barabási-Albert', 'Watts-Strogatz', …"
      ]
     },
     "metadata": {},
     "output_type": "display_data"
    },
    {
     "data": {
      "application/vnd.jupyter.widget-view+json": {
       "model_id": "d0d11db0cd2e45c49b01578c5654fa5f",
       "version_major": 2,
       "version_minor": 0
      },
      "text/plain": [
       "Button(description='Save Graph', style=ButtonStyle())"
      ]
     },
     "metadata": {},
     "output_type": "display_data"
    }
   ],
   "source": [
    "def show_graph(network_name, beta, gamma, time_step, display_plot=True):\n",
    "    if network_name == \"Barabási-Albert\":\n",
    "        network = ba_graph\n",
    "    elif network_name == \"Watts-Strogatz\":\n",
    "        network = ws_graph\n",
    "    elif network_name == \"Erdős-Rényi\":\n",
    "        network = er_graph\n",
    "\n",
    "    key = (network_name, beta, gamma)\n",
    "    if key not in results:\n",
    "        print(f\"No results for {key}\")\n",
    "        return\n",
    "\n",
    "    current_status = results[(key)][time_step]['status']\n",
    "    colors = [ \"green\" if current_status.get(node) == 2 \n",
    "               else \"red\" if current_status.get(node) == 1 \n",
    "               else \"yellow\" for node in network.nodes() ]\n",
    "\n",
    "    clear_output(wait=True)\n",
    "    nx.draw(network, node_color=colors, with_labels=False)\n",
    "    plt.title(f\"{network_name} at time {time_step} with Beta={beta} and Gamma={gamma}\")\n",
    "\n",
    "    # Save without showing\n",
    "    if not display_plot:\n",
    "        filename = f\"../assets/{network_name}_Beta{beta}_Gamma{gamma}_Time{time_slider.value}.png\"\n",
    "        plt.savefig(filename, format='png', bbox_inches='tight', pad_inches=0.1)\n",
    "        plt.close()\n",
    "        print(f\"Graph saved as {filename}\")\n",
    "        return\n",
    "\n",
    "def save_current_graph(b):\n",
    "    show_graph(network_dropdown.value, beta_slider.value, gamma_slider.value, time_slider.value, display_plot=False)\n",
    "\n",
    "network_dropdown = widgets.Dropdown(\n",
    "    options=[\"Barabási-Albert\", \"Watts-Strogatz\", \"Erdős-Rényi\"],\n",
    "    value=\"Watts-Strogatz\",\n",
    "    description='Network:',\n",
    ")\n",
    "\n",
    "beta_slider = widgets.SelectionSlider(\n",
    "    options=betas,\n",
    "    value=betas[0],\n",
    "    description='Beta:',\n",
    "    continuous_update=False\n",
    ")\n",
    "\n",
    "gamma_slider = widgets.SelectionSlider(\n",
    "    options=gammas,\n",
    "    value=gammas[0],\n",
    "    description='Gamma:',\n",
    "    continuous_update=False\n",
    ")\n",
    "\n",
    "time_slider = widgets.IntSlider(\n",
    "    value=0,\n",
    "    min=0,\n",
    "    max=len(iterations)-1,\n",
    "    step=1,\n",
    "    description='Time Step:',\n",
    "    continuous_update=False\n",
    ")\n",
    "\n",
    "# Button to save the graph\n",
    "save_button = widgets.Button(description=\"Save Graph\")\n",
    "save_button.on_click(save_current_graph)\n",
    "\n",
    "ui = widgets.interactive(show_graph, \n",
    "                    network_name=network_dropdown, \n",
    "                    beta=beta_slider, \n",
    "                    gamma=gamma_slider, \n",
    "                    time_step=time_slider)\n",
    "\n",
    "display(ui, save_button)"
   ]
  }
 ],
 "metadata": {
  "kernelspec": {
   "display_name": "Python 3",
   "language": "python",
   "name": "python3"
  },
  "language_info": {
   "codemirror_mode": {
    "name": "ipython",
    "version": 3
   },
   "file_extension": ".py",
   "mimetype": "text/x-python",
   "name": "python",
   "nbconvert_exporter": "python",
   "pygments_lexer": "ipython3",
   "version": "3.11.2"
  },
  "orig_nbformat": 4
 },
 "nbformat": 4,
 "nbformat_minor": 2
}
