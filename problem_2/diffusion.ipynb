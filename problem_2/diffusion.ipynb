{
 "cells": [
  {
   "cell_type": "code",
   "execution_count": 1,
   "metadata": {},
   "outputs": [
    {
     "name": "stdout",
     "output_type": "stream",
     "text": [
      "no display found. Using non-interactive Agg backend\n"
     ]
    }
   ],
   "source": [
    "import networkx as nx\n",
    "import ndlib.models.ModelConfig as mc\n",
    "import ndlib.models.epidemics as ep\n",
    "from ndlib.utils import multi_runs\n",
    "from ndlib.viz.mpl.DiffusionTrend import DiffusionTrend\n",
    "\n",
    "\n",
    "num_of_nodes = 1000\n",
    "num_of_edges = 5\n",
    "k_nearest_neighbors = 6\n",
    "rewiring_probability = 0.1\n",
    "edge_creation_probability = 0.1\n",
    "network_name = \"Erdős-Rényi\"\n",
    "\n",
    "# Network topology\n",
    "ba_graph = nx.barabasi_albert_graph(num_of_nodes, num_of_edges)\n",
    "ws_graph = nx.watts_strogatz_graph(num_of_nodes, k_nearest_neighbors, rewiring_probability)\n",
    "er_graph = nx.erdos_renyi_graph(num_of_nodes, edge_creation_probability)\n",
    "\n",
    "# Model selection\n",
    "def generate_model(network_name):\n",
    "    if network_name == \"Barabási-Albert\":\n",
    "        graph = ba_graph\n",
    "    elif network_name == \"Watts-Strogatz\":\n",
    "        graph = ws_graph\n",
    "    elif network_name == \"Erdős-Rényi\":\n",
    "        graph = er_graph\n",
    "\n",
    "    model = ep.SIRModel(graph)\n",
    "    return model\n",
    "\n",
    "# Model Configuration\n",
    "config = mc.Configuration()\n",
    "config.add_model_parameter('beta', 0.001)\n",
    "config.add_model_parameter('gamma', 0.01)\n",
    "config.add_model_parameter(\"fraction_infected\", 0.05)\n",
    "model = generate_model(network_name)\n",
    "model.set_initial_status(config)\n",
    "\n",
    "# Simulation multiple execution\n",
    "trends = multi_runs(model, execution_number=10, iteration_number=100, infection_sets=None, nprocesses=4)\n",
    "viz = DiffusionTrend(model, trends)\n",
    "viz.plot(\"diffusion.pdf\", percentile=90)"
   ]
  }
 ],
 "metadata": {
  "kernelspec": {
   "display_name": "Python 3",
   "language": "python",
   "name": "python3"
  },
  "language_info": {
   "codemirror_mode": {
    "name": "ipython",
    "version": 3
   },
   "file_extension": ".py",
   "mimetype": "text/x-python",
   "name": "python",
   "nbconvert_exporter": "python",
   "pygments_lexer": "ipython3",
   "version": "3.11.2"
  },
  "orig_nbformat": 4
 },
 "nbformat": 4,
 "nbformat_minor": 2
}
