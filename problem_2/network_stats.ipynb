{
 "cells": [
  {
   "cell_type": "code",
   "execution_count": null,
   "metadata": {},
   "outputs": [],
   "source": [
    "import networkx as nx\n",
    "import matplotlib.pyplot as plt\n",
    "\n",
    "# Network parameters\n",
    "k_nearest_neighbors = 6\n",
    "rewiring_probability = 0.1\n",
    "num_of_edges = 5\n",
    "edge_creation_probability = 0.1\n",
    "\n",
    "networks = {\n",
    "    \"Watts-Strogatz\": lambda n: nx.watts_strogatz_graph(n, k_nearest_neighbors, rewiring_probability),\n",
    "    \"Barabási-Albert\": lambda n: nx.barabasi_albert_graph(n, num_of_edges),\n",
    "    \"Erdős-Rényi\": lambda n: nx.erdos_renyi_graph(n, edge_creation_probability)\n",
    "}\n",
    "\n",
    "nodes_list = [100, 1000, 10000]\n",
    "results = {}\n",
    "\n",
    "def compute_avg_shortest_path_length(networks, nodes):\n",
    "    for network_name, network_func in networks.items():\n",
    "        results[network_name] = []\n",
    "        for num_of_nodes in nodes:\n",
    "            try:\n",
    "                graph = network_func(num_of_nodes)\n",
    "                avg_path_length = nx.average_shortest_path_length(graph)\n",
    "                results[network_name].append(avg_path_length)\n",
    "            except Exception as e:\n",
    "                print(f\"Error with {network_name} for {num_of_nodes} nodes: {e}\")\n",
    "                results[network_name].append(None)\n",
    "\n",
    "compute_avg_shortest_path_length(networks, nodes_list)\n",
    "\n",
    "plt.figure(figsize=(10, 6))\n",
    "for network_name, avg_path_lengths in results.items():\n",
    "    plt.plot(nodes_list, avg_path_lengths, marker='o', label=network_name)\n",
    "\n",
    "plt.xlabel(\"Number of nodes\")\n",
    "plt.ylabel(\"Average shortest path length\")\n",
    "plt.title(\"Average shortest path length vs. Number of nodes\")\n",
    "plt.legend()\n",
    "plt.grid(True)\n",
    "plt.xscale('log')  # setting x-axis to log scale for better visualization\n",
    "plt.tight_layout()\n",
    "plt.show()"
   ]
  }
 ],
 "metadata": {
  "kernelspec": {
   "display_name": "Python 3",
   "language": "python",
   "name": "python3"
  },
  "language_info": {
   "codemirror_mode": {
    "name": "ipython",
    "version": 3
   },
   "file_extension": ".py",
   "mimetype": "text/x-python",
   "name": "python",
   "nbconvert_exporter": "python",
   "pygments_lexer": "ipython3",
   "version": "3.11.2"
  },
  "orig_nbformat": 4
 },
 "nbformat": 4,
 "nbformat_minor": 2
}
