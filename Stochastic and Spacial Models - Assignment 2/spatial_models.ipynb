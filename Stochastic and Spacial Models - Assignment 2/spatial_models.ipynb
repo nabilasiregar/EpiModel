{
 "cells": [
  {
   "cell_type": "code",
   "execution_count": 1,
   "metadata": {},
   "outputs": [],
   "source": [
    "import networkx as nx\n",
    "import ndlib.models.epidemics as ep\n",
    "import ndlib.models.ModelConfig as mc\n",
    "import matplotlib.pyplot as plt\n"
   ]
  },
  {
   "cell_type": "code",
   "execution_count": 2,
   "metadata": {},
   "outputs": [],
   "source": [
    "num_of_nodes = 1000\n",
    "\n",
    "# Barabási-Albert\n",
    "num_of_edges = 5\n",
    "ba_graph = nx.barabasi_albert_graph(num_of_nodes, num_of_edges)\n",
    "ba_model = ep.SIRModel(ba_graph)\n",
    "\n",
    "# Watts-Strogatz\n",
    "k_nearest_neighbors = 6\n",
    "rewiring_probability = 0.1\n",
    "ws_graph = nx.watts_strogatz_graph(num_of_nodes, k_nearest_neighbors, rewiring_probability)\n",
    "ws_model = ep.SIRModel(ws_graph)\n",
    "\n",
    "# Erdős-Rényi\n",
    "edge_creation_probability = 0.1\n",
    "er_graph = nx.erdos_renyi_graph(num_of_nodes, edge_creation_probability)\n",
    "er_model = ep.SIRModel(er_graph)"
   ]
  },
  {
   "cell_type": "code",
   "execution_count": 3,
   "metadata": {},
   "outputs": [],
   "source": [
    "# Parameters to vary\n",
    "betas = [0.05, 0.1, 0.3]\n",
    "gammas = [0.005, 0.1]\n",
    "\n",
    "results = {}\n",
    "\n",
    "for beta in betas:\n",
    "    for gamma in gammas:\n",
    "        config = mc.Configuration()\n",
    "        config.add_model_parameter('beta', beta)\n",
    "        config.add_model_parameter('gamma', gamma)\n",
    "        config.add_model_initial_configuration(\"Infected\", [i for i in range(int(0.1*1000))]) # 10% initially infected\n",
    "\n",
    "        for graph, name in [(ba_graph, \"Barabási-Albert\"), (ws_graph, \"Watts-Strogatz\"), (er_graph, \"Erdős-Rényi\")]:\n",
    "            model = ep.SIRModel(graph)\n",
    "            model.set_initial_status(config)\n",
    "            iterations = model.iteration_bunch(200)\n",
    "            \n",
    "            # Store results\n",
    "            key = (name, beta, gamma)\n",
    "            results[key] = iterations"
   ]
  },
  {
   "cell_type": "code",
   "execution_count": 4,
   "metadata": {},
   "outputs": [],
   "source": [
    "def show_visualization(model_name):\n",
    "    name = model_name\n",
    "    plt.figure(figsize=(15, 10))\n",
    "\n",
    "    for beta in betas:\n",
    "        for gamma in gammas:\n",
    "            key = (name, beta, gamma)\n",
    "            infected = [it['node_count'][1] for it in results[key]]\n",
    "            plt.plot(infected, label=f\"beta={beta}, gamma={gamma}\")\n",
    "\n",
    "    plt.title(f\"SIR Dynamics in {name} Model\")\n",
    "    plt.xlabel(\"Iterations\")\n",
    "    plt.ylabel(\"Infected Node Count\")\n",
    "    plt.legend()\n",
    "    plt.show()"
   ]
  },
  {
   "cell_type": "code",
   "execution_count": null,
   "metadata": {},
   "outputs": [],
   "source": [
    "name = \"Barabási-Albert\"\n",
    "show_visualization(name)"
   ]
  },
  {
   "cell_type": "code",
   "execution_count": null,
   "metadata": {},
   "outputs": [],
   "source": [
    "name = \"Watts-Strogatz\"\n",
    "show_visualization(name)\n"
   ]
  },
  {
   "cell_type": "code",
   "execution_count": null,
   "metadata": {},
   "outputs": [],
   "source": [
    "name = \"Erdős-Rényi\"\n",
    "show_visualization(name)"
   ]
  },
  {
   "cell_type": "code",
   "execution_count": 16,
   "metadata": {},
   "outputs": [
    {
     "data": {
      "text/html": [
       "\n",
       "        <iframe\n",
       "            width=\"100%\"\n",
       "            height=\"650\"\n",
       "            src=\"http://127.0.0.1:8050/\"\n",
       "            frameborder=\"0\"\n",
       "            allowfullscreen\n",
       "            \n",
       "        ></iframe>\n",
       "        "
      ],
      "text/plain": [
       "<IPython.lib.display.IFrame at 0x176c33550>"
      ]
     },
     "metadata": {},
     "output_type": "display_data"
    }
   ],
   "source": [
    "import dash\n",
    "import dash_core_components as dcc\n",
    "import dash_html_components as html\n",
    "from dash.dependencies import Input, Output\n",
    "import networkx as nx\n",
    "import plotly.graph_objects as go\n",
    "\n",
    "# Your provided code to generate graphs\n",
    "# ... [Your code here]\n",
    "\n",
    "# Initialize Dash app\n",
    "app = dash.Dash(__name__)\n",
    "\n",
    "# Layout of the web application\n",
    "app.layout = html.Div([\n",
    "    dcc.Graph(id='network-graph'),\n",
    "    dcc.Slider(\n",
    "        id='time-slider',\n",
    "        min=0,\n",
    "        max=100,  # Assuming 100 time steps, adjust as needed\n",
    "        value=0,\n",
    "        marks={i: str(i) for i in range(0, 101, 10)},\n",
    "        step=1\n",
    "    )\n",
    "])\n",
    "\n",
    "# Callback to update the network graph based on the time slider\n",
    "@app.callback(\n",
    "    Output('network-graph', 'figure'),\n",
    "    [Input('time-slider', 'value')]\n",
    ")\n",
    "def update_graph(selected_time):\n",
    "    # Use the selected_time to get the state of the nodes at that time\n",
    "    # For demonstration, using the Barabási-Albert graph (ba_model)\n",
    "    # You can extend this for other graphs\n",
    "\n",
    "    pos = nx.spring_layout(ba_graph)\n",
    "    edge_x = []\n",
    "    edge_y = []\n",
    "    for edge in ba_graph.edges():\n",
    "        x0, y0 = pos[edge[0]]\n",
    "        x1, y1 = pos[edge[1]]\n",
    "        edge_x.extend([x0, x1, None])\n",
    "        edge_y.extend([y0, y1, None])\n",
    "\n",
    "    node_x = [pos[node][0] for node in ba_graph.nodes()]\n",
    "    node_y = [pos[node][1] for node in ba_graph.nodes()]\n",
    "\n",
    "    # Dummy node colors for demonstration\n",
    "    # Replace this with actual logic to get node colors based on their state at the selected_time\n",
    "    node_colors = [\"blue\" if node % (selected_time + 1) == 0 else \"green\" for node in ba_graph.nodes()]\n",
    "\n",
    "    fig = go.Figure(\n",
    "        data=[\n",
    "            go.Scatter(\n",
    "                x=edge_x, y=edge_y,\n",
    "                line=dict(width=0.5, color=\"#888\"),\n",
    "                hoverinfo=\"none\",\n",
    "                mode=\"lines\"\n",
    "            ),\n",
    "            go.Scatter(\n",
    "                x=node_x, y=node_y,\n",
    "                mode=\"markers\",\n",
    "                hoverinfo=\"text\",\n",
    "                marker=dict(\n",
    "                    showscale=True,\n",
    "                    colorscale=\"Viridis\",\n",
    "                    size=10,\n",
    "                    colorbar=dict(\n",
    "                        thickness=15,\n",
    "                        title=\"Node Connections\",\n",
    "                        xanchor=\"left\",\n",
    "                        titleside=\"right\"\n",
    "                    ),\n",
    "                    line_width=2,\n",
    "                    color=node_colors\n",
    "                )\n",
    "            )\n",
    "        ],\n",
    "        layout=go.Layout(\n",
    "            title=\"Network Graph with Disease Progression\",\n",
    "            titlefont_size=16,\n",
    "            showlegend=False,\n",
    "            hovermode=\"closest\",\n",
    "            margin=dict(b=0, l=0, r=0, t=40),\n",
    "            xaxis=dict(showgrid=False, zeroline=False, showticklabels=False),\n",
    "            yaxis=dict(showgrid=False, zeroline=False, showticklabels=False)\n",
    "        )\n",
    "    )\n",
    "\n",
    "    return fig\n",
    "\n",
    "if __name__ == '__main__':\n",
    "    app.run_server(debug=True)\n"
   ]
  }
 ],
 "metadata": {
  "kernelspec": {
   "display_name": "Python 3",
   "language": "python",
   "name": "python3"
  },
  "language_info": {
   "codemirror_mode": {
    "name": "ipython",
    "version": 3
   },
   "file_extension": ".py",
   "mimetype": "text/x-python",
   "name": "python",
   "nbconvert_exporter": "python",
   "pygments_lexer": "ipython3",
   "version": "3.11.0"
  },
  "orig_nbformat": 4
 },
 "nbformat": 4,
 "nbformat_minor": 2
}
