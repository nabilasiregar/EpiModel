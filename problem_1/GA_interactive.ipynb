{
 "cells": [
  {
   "cell_type": "code",
   "execution_count": null,
   "metadata": {},
   "outputs": [],
   "source": [
    "import numpy as np\n",
    "import matplotlib.pyplot as plt\n",
    "from scipy.integrate import odeint\n",
    "import ipywidgets as widgets\n",
    "from IPython.display import display, clear_output"
   ]
  },
  {
   "cell_type": "markdown",
   "metadata": {},
   "source": [
    "Initializing SIR_model and Gillespie's Algorithm functions"
   ]
  },
  {
   "cell_type": "code",
   "execution_count": null,
   "metadata": {},
   "outputs": [],
   "source": [
    "# Deterministic SIR model\n",
    "def SIR_model(y, t, beta, gamma):\n",
    "    S, I, R = y\n",
    "    dS_dt = -beta * S * I / (S + I + R)\n",
    "    dI_dt = beta * S * I / (S + I + R) - gamma * I\n",
    "    dR_dt = gamma * I\n",
    "    return [dS_dt, dI_dt, dR_dt]\n",
    "\n",
    "def gillespie_algorithm(S0, I0, R0, beta, gamma, max_time):\n",
    "    # Initial conditions\n",
    "    S, I, R = S0, I0, R0\n",
    "    t = 0\n",
    "    times = [t]\n",
    "    S_values = [S]\n",
    "    I_values = [I]\n",
    "    R_values = [R]\n",
    "\n",
    "    while t < max_time and I > 0:\n",
    "        N = S + I + R\n",
    "\n",
    "        # Calculate propensities\n",
    "        a1 = beta * S * I / N\n",
    "        a2 = gamma * I\n",
    "        a0 = a1 + a2\n",
    "\n",
    "        # Time until next event\n",
    "        dt = -np.log(np.random.random()) / a0\n",
    "        t += dt\n",
    "\n",
    "        # Determine which event occurs\n",
    "        r = np.random.random()\n",
    "        if r < a1 / a0:\n",
    "            # Transmission event\n",
    "            S -= 1\n",
    "            I += 1\n",
    "        else:\n",
    "            # Recovery event\n",
    "            I -= 1\n",
    "            R += 1\n",
    "\n",
    "        # Store results\n",
    "        times.append(t)\n",
    "        S_values.append(S)\n",
    "        I_values.append(I)\n",
    "        R_values.append(R)\n",
    "\n",
    "    return times, S_values, I_values, R_values"
   ]
  },
  {
   "cell_type": "markdown",
   "metadata": {},
   "source": [
    "We set the transmission rate to 0.3, recovery rate to 0.1. The initial number of susceptible and infected individuals can vary, the initial number of recovered individual is always 0. We can also set how many times we want to run the Gillespie's Algorithm."
   ]
  },
  {
   "cell_type": "code",
   "execution_count": 20,
   "metadata": {},
   "outputs": [
    {
     "data": {
      "application/vnd.jupyter.widget-view+json": {
       "model_id": "fb69211184464daf8c8976ea3c04ec53",
       "version_major": 2,
       "version_minor": 0
      },
      "text/plain": [
       "interactive(children=(IntSlider(value=990, description='S0:', max=1000, step=10), IntSlider(value=10, descript…"
      ]
     },
     "metadata": {},
     "output_type": "display_data"
    },
    {
     "data": {
      "application/vnd.jupyter.widget-view+json": {
       "model_id": "fde9d2c959174f0a8a5f978caa03df0a",
       "version_major": 2,
       "version_minor": 0
      },
      "text/plain": [
       "Output()"
      ]
     },
     "metadata": {},
     "output_type": "display_data"
    }
   ],
   "source": [
    "beta = 0.3\n",
    "gamma = 0.1\n",
    "max_time = 200\n",
    "t = np.linspace(0, max_time, 1000)\n",
    "output = widgets.Output()\n",
    "\n",
    "def update_plot(S0, I0, num_runs):\n",
    "    R0 = 0\n",
    "    with output:\n",
    "        clear_output(wait=True)\n",
    "        fig, ax = plt.subplots(figsize=(10, 6))\n",
    "    \n",
    "        # Solve ODE for deterministic SIR\n",
    "        solution = odeint(SIR_model, [S0, I0, R0], t, args=(beta, gamma))\n",
    "        S_det, I_det, R_det = solution.T\n",
    "\n",
    "        # Run Gillespie algorithm multiple times\n",
    "        all_S = []\n",
    "        all_I = []\n",
    "        all_R = []\n",
    "\n",
    "        for _ in range(num_runs):\n",
    "            times, S_values, I_values, R_values = gillespie_algorithm(S0, I0, R0, beta, gamma, max_time)\n",
    "            all_S.append(np.interp(t, times, S_values))\n",
    "            all_I.append(np.interp(t, times, I_values))\n",
    "            all_R.append(np.interp(t, times, R_values))\n",
    "\n",
    "        # Compute average and standard deviation\n",
    "        avg_S = np.mean(all_S, axis=0)\n",
    "        std_S = np.std(all_S, axis=0)\n",
    "        avg_I = np.mean(all_I, axis=0)\n",
    "        std_I = np.std(all_I, axis=0)\n",
    "\n",
    "        # Plotting\n",
    "\n",
    "        # Deterministic SIR\n",
    "        ax.plot(t, S_det, label=\"Susceptible (Deterministic)\", linestyle=\"--\")\n",
    "        ax.plot(t, I_det, label=\"Infectious (Deterministic)\", linestyle=\"--\")\n",
    "\n",
    "        # Average Stochastic SIR\n",
    "        ax.plot(t, avg_S, label=\"Avg Susceptible (Stochastic)\")\n",
    "        ax.fill_between(t, avg_S - std_S, avg_S + std_S, alpha=0.2)\n",
    "        ax.plot(t, avg_I, label=\"Avg Infectious (Stochastic)\")\n",
    "        ax.fill_between(t, avg_I - std_I, avg_I + std_I, alpha=0.2)\n",
    "\n",
    "        ax.set_xlabel(\"Time\")\n",
    "        ax.set_ylabel(\"Population\")\n",
    "        ax.set_title(f\"Comparison of Deterministic and Stochastic SIR Models ({num_runs} runs)\")\n",
    "        ax.legend(loc=\"upper right\")\n",
    "        ax.grid(True)\n",
    "        plt.tight_layout()\n",
    "        plt.show()\n",
    "\n",
    "S0_slider = widgets.IntSlider(value=990, min=0, max=1000, step=10, description='S0:')\n",
    "I0_slider = widgets.IntSlider(value=10, min=0, max=100, step=10, description='I0:')\n",
    "num_runs_slider = widgets.IntSlider(value=1, min=1, max=1000, description='GA Run:')\n",
    "\n",
    "\n",
    "interactive_plot = widgets.interactive(update_plot, S0=S0_slider, I0=I0_slider, num_runs=num_runs_slider)\n",
    "display(interactive_plot, output)\n"
   ]
  }
 ],
 "metadata": {
  "kernelspec": {
   "display_name": "Python 3",
   "language": "python",
   "name": "python3"
  },
  "language_info": {
   "codemirror_mode": {
    "name": "ipython",
    "version": 3
   },
   "file_extension": ".py",
   "mimetype": "text/x-python",
   "name": "python",
   "nbconvert_exporter": "python",
   "pygments_lexer": "ipython3",
   "version": "3.11.2"
  },
  "orig_nbformat": 4
 },
 "nbformat": 4,
 "nbformat_minor": 2
}
